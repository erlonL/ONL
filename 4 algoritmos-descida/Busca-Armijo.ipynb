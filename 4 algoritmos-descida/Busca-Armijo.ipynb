{
 "cells": [
  {
   "cell_type": "code",
   "execution_count": 2,
   "metadata": {},
   "outputs": [
    {
     "name": "stderr",
     "output_type": "stream",
     "text": [
      "\u001b[32m\u001b[1m    Updating\u001b[22m\u001b[39m registry at `~/.julia/registries/General.toml`\n",
      "\u001b[32m\u001b[1m   Resolving\u001b[22m\u001b[39m package versions...\n",
      "\u001b[32m\u001b[1m    Updating\u001b[22m\u001b[39m `~/.julia/environments/v1.10/Project.toml`\n",
      "  \u001b[90m[f6369f11] \u001b[39m\u001b[92m+ ForwardDiff v0.10.36\u001b[39m\n",
      "\u001b[32m\u001b[1m  No Changes\u001b[22m\u001b[39m to `~/.julia/environments/v1.10/Manifest.toml`\n"
     ]
    }
   ],
   "source": [
    "import Pkg; Pkg.add(\"ForwardDiff\")"
   ]
  },
  {
   "cell_type": "code",
   "execution_count": 7,
   "metadata": {},
   "outputs": [
    {
     "data": {
      "text/plain": [
       "Armijo (generic function with 1 method)"
      ]
     },
     "metadata": {},
     "output_type": "display_data"
    }
   ],
   "source": [
    "#Algoritmo: Busca de Armijo\n",
    "#ENTRADA: A fun¸cão f , x em R, d em Rn\n",
    "#PARÂMETROS: gamma = 0.7, eta = 0.45\n",
    "using ForwardDiff, LinearAlgebra\n",
    "\n",
    "function Armijo(f, x, d)\n",
    "    gamma = 0.7\n",
    "    eta = 0.45\n",
    "    t = 1\n",
    "    fx = f(x)\n",
    "    gx = ForwardDiff.gradient(f, x)\n",
    "    gd = gx * d\n",
    "    ft = f(x + t*d)\n",
    "    while ft > fx + eta*t *gd\n",
    "        t = gamma*t\n",
    "        ft = f(x + t*d)\n",
    "    end\n",
    "    return t, f(x+t*d)\n",
    "end"
   ]
  }
 ],
 "metadata": {
  "kernelspec": {
   "display_name": "Julia 1.10.3",
   "language": "julia",
   "name": "julia-1.10"
  },
  "language_info": {
   "file_extension": ".jl",
   "mimetype": "application/julia",
   "name": "julia",
   "version": "1.10.3"
  }
 },
 "nbformat": 4,
 "nbformat_minor": 2
}
