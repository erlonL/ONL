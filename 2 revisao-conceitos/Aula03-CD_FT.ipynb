{
 "cells": [
  {
   "cell_type": "markdown",
   "metadata": {},
   "source": [
    "# Aula 03 - Tópicos\n",
    "\n",
    "- Cálculo Diferencial\n",
    "- Fórmula de Taylor"
   ]
  },
  {
   "cell_type": "markdown",
   "metadata": {},
   "source": [
    "== =="
   ]
  },
  {
   "cell_type": "markdown",
   "metadata": {},
   "source": [
    "# Cálculo Diferencial"
   ]
  },
  {
   "cell_type": "code",
   "execution_count": 2,
   "metadata": {},
   "outputs": [],
   "source": [
    "#import Pkg;\n",
    "#Pkg.add(\"Symbolics\")"
   ]
  },
  {
   "cell_type": "markdown",
   "metadata": {},
   "source": [
    "Derivadas em formas de limites (expandidas)"
   ]
  },
  {
   "cell_type": "code",
   "execution_count": null,
   "metadata": {},
   "outputs": [],
   "source": [
    "using Symbolics\n",
    "\n",
    "@variables x; # define x como uma variável simbólica\n",
    "Dx = Differential(x); # Cria o operador diferencial com respeito à variável\n",
    "                      # simbólica x\n",
    "#f(x) = x^3\n",
    "f(x) = x^3 + exp(x) - sin(x)/x +5;\n",
    "\n",
    "f(2.0) # avaliando a funcao"
   ]
  },
  {
   "cell_type": "code",
   "execution_count": null,
   "metadata": {},
   "outputs": [],
   "source": [
    "df(x) = Dx(f(x))\n",
    "df1 = expand_derivatives(df(x)) # devolve a expressão simbólica da derivada\n",
    "substitute(df1, Dict([x => 2])) # Substituicao pelo valor x = 2"
   ]
  },
  {
   "cell_type": "code",
   "execution_count": null,
   "metadata": {},
   "outputs": [],
   "source": [
    "df1_x= build_function(df1, x, expression = Val{false}) # crea uma funcao numerica (nao um objeto CAS)\n",
    "df1_x(2.0) #avaialom na funcao numerica"
   ]
  },
  {
   "cell_type": "code",
   "execution_count": 14,
   "metadata": {},
   "outputs": [
    {
     "ename": "ErrorException",
     "evalue": "invalid redefinition of constant Main.f",
     "output_type": "error",
     "traceback": [
      "invalid redefinition of constant Main.f\n",
      "\n",
      "Stacktrace:\n",
      " [1] top-level scope\n",
      "   @ none:1"
     ]
    }
   ],
   "source": [
    "using Base\n",
    "\n",
    "# Exemplo de remoção de variáveis específicas definidas pelo Symbolics\n",
    "if isdefined(Main, :x)\n",
    "    Base.eval(Main, :(x = nothing))\n",
    "end\n",
    "\n",
    "if isdefined(Main, :y)\n",
    "    Base.eval(Main, :(y = nothing))\n",
    "end\n",
    "\n",
    "if isdefined(Main, :Dx)\n",
    "    Base.eval(Main, :(Dx = nothing))\n",
    "end\n",
    "\n",
    "if isdefined(Main, :f)\n",
    "    Base.eval(Main, :(f = nothing))\n",
    "end\n",
    "\n",
    "if isdefined(Main, :df)\n",
    "    Base.eval(Main, :(df = nothing))\n",
    "end\n",
    "\n",
    "if isdefined(Main, :df1)\n",
    "    Base.eval(Main, :(df1 = nothing))\n",
    "end"
   ]
  },
  {
   "cell_type": "markdown",
   "metadata": {},
   "source": [
    "Matrizes hessianas"
   ]
  },
  {
   "cell_type": "code",
   "execution_count": 5,
   "metadata": {},
   "outputs": [
    {
     "ename": "ErrorException",
     "evalue": "invalid redefinition of constant Main.f",
     "output_type": "error",
     "traceback": [
      "invalid redefinition of constant Main.f\n",
      "\n",
      "Stacktrace:\n",
      " [1] top-level scope\n",
      "   @ ~/Documents/Code/UFPB/ONL/Aula03-CD_FT.ipynb:4"
     ]
    }
   ],
   "source": [
    "using Symbolics\n",
    "\n",
    "@variables x y;\n",
    "f = y*log(x) + x*y^2 # definindo a expressão simbólica f"
   ]
  },
  {
   "cell_type": "code",
   "execution_count": null,
   "metadata": {},
   "outputs": [],
   "source": [
    "substitute(f, Dict([x => 1, y => 2]))\n",
    "f_x= build_function(f, x, y, expression = Val{false})\n",
    "f_x(1.0, 2.0)"
   ]
  },
  {
   "cell_type": "code",
   "execution_count": null,
   "metadata": {},
   "outputs": [],
   "source": [
    "Gradf = Symbolics.gradient(f, [x, y]) # Devolve o vector gradiente da função f\n",
    "substitute(Gradf, Dict([x => 1, y => 2])) # Substituição pelos valores x = 1 e y=2 na expressão simbólica Gradf\n",
    "Gradf_x= build_function(Gradf, x, y, expression = Val{false})\n",
    "Gradf_x[1](1.0, 2.0)"
   ]
  },
  {
   "cell_type": "code",
   "execution_count": 15,
   "metadata": {},
   "outputs": [
    {
     "ename": "MethodError",
     "evalue": "MethodError: no method matching normalize_args(::Nothing)\n\nClosest candidates are:\n  normalize_args(!Matched::Expr)\n   @ RuntimeGeneratedFunctions ~/.julia/packages/RuntimeGeneratedFunctions/M9ZX8/src/RuntimeGeneratedFunctions.jl:279\n  normalize_args(!Matched::Symbol)\n   @ RuntimeGeneratedFunctions ~/.julia/packages/RuntimeGeneratedFunctions/M9ZX8/src/RuntimeGeneratedFunctions.jl:278\n  normalize_args(!Matched::Vector)\n   @ RuntimeGeneratedFunctions ~/.julia/packages/RuntimeGeneratedFunctions/M9ZX8/src/RuntimeGeneratedFunctions.jl:277\n",
     "output_type": "error",
     "traceback": [
      "MethodError: no method matching normalize_args(::Nothing)\n",
      "\n",
      "Closest candidates are:\n",
      "  normalize_args(!Matched::Expr)\n",
      "   @ RuntimeGeneratedFunctions ~/.julia/packages/RuntimeGeneratedFunctions/M9ZX8/src/RuntimeGeneratedFunctions.jl:279\n",
      "  normalize_args(!Matched::Symbol)\n",
      "   @ RuntimeGeneratedFunctions ~/.julia/packages/RuntimeGeneratedFunctions/M9ZX8/src/RuntimeGeneratedFunctions.jl:278\n",
      "  normalize_args(!Matched::Vector)\n",
      "   @ RuntimeGeneratedFunctions ~/.julia/packages/RuntimeGeneratedFunctions/M9ZX8/src/RuntimeGeneratedFunctions.jl:277\n",
      "\n",
      "\n",
      "Stacktrace:\n",
      "  [1] iterate\n",
      "    @ ./generator.jl:47 [inlined]\n",
      "  [2] _collect(c::Vector{Any}, itr::Base.Generator{Vector{Any}, typeof(RuntimeGeneratedFunctions.normalize_args)}, ::Base.EltypeUnknown, isz::Base.HasShape{1})\n",
      "    @ Base ./array.jl:854\n",
      "  [3] collect_similar\n",
      "    @ ./array.jl:763 [inlined]\n",
      "  [4] map\n",
      "    @ ./abstractarray.jl:3285 [inlined]\n",
      "  [5] normalize_args(args::Vector{Any})\n",
      "    @ RuntimeGeneratedFunctions ~/.julia/packages/RuntimeGeneratedFunctions/M9ZX8/src/RuntimeGeneratedFunctions.jl:277\n",
      "  [6] RuntimeGeneratedFunctions.RuntimeGeneratedFunction(cache_tag::Type, context_tag::Type, ex::Expr; opaque_closures::Bool)\n",
      "    @ RuntimeGeneratedFunctions ~/.julia/packages/RuntimeGeneratedFunctions/M9ZX8/src/RuntimeGeneratedFunctions.jl:57\n",
      "  [7] _build_and_inject_function(mod::Module, ex::Expr)\n",
      "    @ Symbolics ~/.julia/packages/Symbolics/Nk48t/src/build_function.jl:189\n",
      "  [8] _build_function(::Symbolics.JuliaTarget, ::Matrix{Num}, ::Nothing, ::Vararg{Nothing}; conv::typeof(SymbolicUtils.Code.toexpr), expression::Type, expression_module::Module, checkbounds::Bool, postprocess_fbody::Symbolics.var\"#409#413\", linenumbers::Bool, outputidxs::Nothing, skipzeros::Bool, force_SA::Bool, wrap_code::Tuple{Nothing, Nothing}, fillzeros::Bool, states::SymbolicUtils.Code.LazyState, iip_config::Tuple{Bool, Bool}, nanmath::Bool, parallel::Nothing, cse::Bool, kwargs::@Kwargs{})\n",
      "    @ Symbolics ~/.julia/packages/Symbolics/Nk48t/src/build_function.jl:335\n",
      "  [9] build_function(::Matrix{Num}, ::Vararg{Any}; target::Symbolics.JuliaTarget, kwargs::@Kwargs{expression::DataType})\n",
      "    @ Symbolics ~/.julia/packages/Symbolics/Nk48t/src/build_function.jl:87\n",
      " [10] top-level scope\n",
      "    @ ~/Documents/Code/UFPB/ONL/Aula03-CD_FT.ipynb:3"
     ]
    }
   ],
   "source": [
    "Hessf =Symbolics.hessian(f, [x, y]) # Devolve a matriz hessiana da função f\n",
    "substitute(Hessf, Dict([x => 1, y => 2])) # Substituição pelos valores x = 1 e y=2 na expressão simbólica Hessf\n",
    "Hessf_x= build_function(Hessf, x, y, expression = Val{false})\n",
    "Hessf_x[1](1.0, 2.0)"
   ]
  },
  {
   "cell_type": "markdown",
   "metadata": {},
   "source": [
    "Derivada direcional"
   ]
  },
  {
   "cell_type": "code",
   "execution_count": null,
   "metadata": {},
   "outputs": [],
   "source": [
    "using Symbolics\n",
    "@variables x y;"
   ]
  },
  {
   "cell_type": "code",
   "execution_count": null,
   "metadata": {},
   "outputs": [],
   "source": [
    "f= 3*x^2 -2*y^2"
   ]
  },
  {
   "cell_type": "code",
   "execution_count": null,
   "metadata": {},
   "outputs": [],
   "source": [
    "Gf = Symbolics.gradient(f, [x, y])"
   ]
  },
  {
   "cell_type": "code",
   "execution_count": 16,
   "metadata": {},
   "outputs": [
    {
     "ename": "ErrorException",
     "evalue": "invalid redefinition of constant Main.f",
     "output_type": "error",
     "traceback": [
      "invalid redefinition of constant Main.f\n",
      "\n",
      "Stacktrace:\n",
      " [1] top-level scope\n",
      "   @ ~/Documents/Code/UFPB/ONL/Aula03-CD_FT.ipynb:4"
     ]
    }
   ],
   "source": [
    "Gradf = substitute(Gf, Dict([x => -3/4, y => 0]))\n",
    "Gradf´*[3/4; 1]"
   ]
  },
  {
   "cell_type": "markdown",
   "metadata": {},
   "source": [
    "outra forma"
   ]
  },
  {
   "cell_type": "code",
   "execution_count": null,
   "metadata": {},
   "outputs": [],
   "source": [
    "using Symbolics\n",
    "@variables x y a;\n",
    "f= x*y\n",
    "# f(x,y) = x*y"
   ]
  },
  {
   "cell_type": "code",
   "execution_count": null,
   "metadata": {},
   "outputs": [],
   "source": [
    "v = [1; 0] + a*[-1; -1] # x + a*d\n",
    "ga = substitute(f2, Dict([x => v[1], y =>v[2]]))\n",
    "# g(a)"
   ]
  },
  {
   "cell_type": "code",
   "execution_count": null,
   "metadata": {},
   "outputs": [],
   "source": [
    "dga = Symbolics.derivative(ga, a)\n",
    "# g´(a)"
   ]
  },
  {
   "cell_type": "code",
   "execution_count": null,
   "metadata": {},
   "outputs": [],
   "source": [
    "substitute(dga, Dict([a => 0]))\n",
    "# g´(0) é a derivada direcional"
   ]
  },
  {
   "cell_type": "markdown",
   "metadata": {},
   "source": [
    "Jacobiana"
   ]
  },
  {
   "cell_type": "code",
   "execution_count": null,
   "metadata": {},
   "outputs": [],
   "source": [
    "using Symbolics\n",
    "@variables x y;\n",
    "f = [5*x + 2*y^3; 6*x*y^2; x + y]"
   ]
  },
  {
   "cell_type": "code",
   "execution_count": null,
   "metadata": {},
   "outputs": [],
   "source": [
    "f_x= build_function(f, x, y, expression = Val{false})\n",
    "f_x[1](1.0, 0.0)"
   ]
  },
  {
   "cell_type": "code",
   "execution_count": null,
   "metadata": {},
   "outputs": [],
   "source": [
    "DJ = Symbolics.jacobian(f, [x, y])\n",
    "DJ_xy = build_function(DJ, [x, y], expression = Val{false})\n",
    "DJ_xy[1]([1.0, 0.0])"
   ]
  },
  {
   "cell_type": "markdown",
   "metadata": {},
   "source": [
    "# Fórmula de Taylor"
   ]
  },
  {
   "cell_type": "markdown",
   "metadata": {},
   "source": [
    "Aproximações de Taylor de grau de suficiência 1 e 2"
   ]
  },
  {
   "cell_type": "code",
   "execution_count": null,
   "metadata": {},
   "outputs": [],
   "source": [
    "using Symbolics\n",
    "@variables x y;\n",
    "f3= x*cos(y) + y*sin(x)"
   ]
  },
  {
   "cell_type": "code",
   "execution_count": null,
   "metadata": {},
   "outputs": [],
   "source": [
    "F = substitute(f3, Dict([x => 0, y => 0]))\n",
    "Gradf = Symbolics.gradient(f3, [x, y])\n",
    "G = substitute(Gradf, Dict([x => 0, y => 0]))\n",
    "Hessf =Symbolics.hessian(f3, [x, y])\n",
    "H = substitute(Hessf, Dict([x => 0, y => 0]))"
   ]
  },
  {
   "cell_type": "code",
   "execution_count": null,
   "metadata": {},
   "outputs": [],
   "source": [
    "d= [x; y] -[0; 0]\n",
    "p1 = F + G´ * d\n",
    "p2 = p1 + d´ * H * d"
   ]
  }
 ],
 "metadata": {
  "kernelspec": {
   "display_name": "Julia 1.10.3",
   "language": "julia",
   "name": "julia-1.10"
  },
  "language_info": {
   "file_extension": ".jl",
   "mimetype": "application/julia",
   "name": "julia",
   "version": "1.10.3"
  }
 },
 "nbformat": 4,
 "nbformat_minor": 2
}
