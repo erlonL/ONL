{
 "cells": [
  {
   "cell_type": "markdown",
   "id": "5e0ebb05",
   "metadata": {},
   "source": [
    "## Derivadas em $\\mathbb{R}$\n"
   ]
  },
  {
   "cell_type": "markdown",
   "id": "66fca089",
   "metadata": {},
   "source": [
    "### Exemplo: $$f(x) = x^3$$"
   ]
  },
  {
   "cell_type": "code",
   "execution_count": 2,
   "id": "aca12950",
   "metadata": {},
   "outputs": [],
   "source": [
    "using LinearAlgebra\n",
    "using Symbolics\n",
    "\n",
    "@variables x; # define x como uma variável simbólica\n",
    "Dx = Differential(x); # Cria o operador diferencial com respeito à variavél simbólica x\n",
    "\n",
    "f(x) = x^3 +1/x\n",
    "l(x) = x+1\n",
    "expand(f(l(x)))   #mostra a composição f∘ l\n",
    "\n",
    "f(x) = x^3 + exp(x) - sin(x)/x +5;\n",
    "expand(f(x))\n",
    "\n",
    "df(x) = Dx(f(x))\n",
    "\n",
    "expand_derivatives(df(x)) # devolve a expressão simbólica da derivada\n"
   ]
  },
  {
   "cell_type": "code",
   "execution_count": 129,
   "id": "7de46924",
   "metadata": {},
   "outputs": [
    {
     "data": {
      "text/plain": [
       "22.01611783321104"
      ]
     },
     "execution_count": 129,
     "metadata": {},
     "output_type": "execute_result"
    }
   ],
   "source": [
    "#f(l(1))\n",
    "f(2.1)"
   ]
  },
  {
   "cell_type": "markdown",
   "id": "123621cc",
   "metadata": {},
   "source": [
    "### Exemplo: $$g(x)= \\frac{\\sqrt{ e^x+ x^2}}{2}$$"
   ]
  },
  {
   "cell_type": "code",
   "execution_count": 1,
   "id": "a68d9063",
   "metadata": {},
   "outputs": [
    {
     "ename": "UndefVarError",
     "evalue": "UndefVarError: `x` not defined",
     "output_type": "error",
     "traceback": [
      "UndefVarError: `x` not defined\n",
      "\n",
      "Stacktrace:\n",
      " [1] top-level scope\n",
      "   @ ~/Documents/Code/UFPB/ONL/Aula_Derivadas_2024.ipynb:2"
     ]
    }
   ],
   "source": [
    "g(x) =sqrt(exp(x)+ x^2)/2\n",
    "expand(g(x))\n",
    "g(1)\n",
    "dg(x) = Dx(g(x))\n",
    "#expand(dg(x))\n",
    "expand_derivatives(dg(x))"
   ]
  },
  {
   "cell_type": "code",
   "execution_count": 131,
   "id": "475943cb",
   "metadata": {},
   "outputs": [
    {
     "data": {
      "text/latex": [
       "$$ \\begin{equation}\n",
       "0.5\n",
       "\\end{equation}\n",
       " $$"
      ],
      "text/plain": [
       "0.5"
      ]
     },
     "execution_count": 131,
     "metadata": {},
     "output_type": "execute_result"
    }
   ],
   "source": [
    "substitute(g(x), Dict(x => 0))"
   ]
  },
  {
   "cell_type": "code",
   "execution_count": 132,
   "id": "5a875a77",
   "metadata": {},
   "outputs": [
    {
     "data": {
      "text/latex": [
       "$$ \\begin{equation}\n",
       "3 x^{2}\n",
       "\\end{equation}\n",
       " $$"
      ],
      "text/plain": [
       "3(x^2)"
      ]
     },
     "execution_count": 132,
     "metadata": {},
     "output_type": "execute_result"
    }
   ],
   "source": [
    "h(x)=Symbolics.derivative(x^3, x)\n",
    "expand(h(x))"
   ]
  },
  {
   "cell_type": "code",
   "execution_count": 77,
   "id": "bbd33302",
   "metadata": {},
   "outputs": [
    {
     "data": {
      "text/plain": [
       "Num"
      ]
     },
     "execution_count": 77,
     "metadata": {},
     "output_type": "execute_result"
    }
   ],
   "source": [
    "typeof(f(x))"
   ]
  },
  {
   "cell_type": "markdown",
   "id": "7d6d4965",
   "metadata": {},
   "source": [
    "### Derivadas em $\\mathbb{R}^n$"
   ]
  },
  {
   "cell_type": "code",
   "execution_count": 78,
   "id": "b9dd7a95",
   "metadata": {},
   "outputs": [
    {
     "data": {
      "text/plain": [
       "typeof(f) (singleton type of function f, subtype of Function)"
      ]
     },
     "execution_count": 78,
     "metadata": {},
     "output_type": "execute_result"
    }
   ],
   "source": [
    "a=[1;2]\n",
    "f(x)= dot(a,x)\n",
    "f([2;3.0])\n",
    "#f(a)\n",
    "typeof(f)"
   ]
  },
  {
   "cell_type": "code",
   "execution_count": 79,
   "id": "eba305d3",
   "metadata": {},
   "outputs": [
    {
     "data": {
      "text/plain": [
       "5"
      ]
     },
     "execution_count": 79,
     "metadata": {},
     "output_type": "execute_result"
    }
   ],
   "source": [
    "a=[1;2]\n",
    "b=[3;1]\n",
    "dot(a,b)"
   ]
  },
  {
   "cell_type": "markdown",
   "id": "a6207994",
   "metadata": {},
   "source": [
    "### Exemplo: $$f(x)= a^T x$$"
   ]
  },
  {
   "cell_type": "code",
   "execution_count": 80,
   "id": "630e2a61",
   "metadata": {},
   "outputs": [
    {
     "data": {
      "text/latex": [
       "$$ \\begin{equation}\n",
       "\\left[\n",
       "\\begin{array}{c}\n",
       "1 \\\\\n",
       "2 \\\\\n",
       "\\end{array}\n",
       "\\right]\n",
       "\\end{equation}\n",
       " $$"
      ],
      "text/plain": [
       "2-element Vector{Num}:\n",
       " 1\n",
       " 2"
      ]
     },
     "execution_count": 80,
     "metadata": {},
     "output_type": "execute_result"
    }
   ],
   "source": [
    "using Symbolics\n",
    "\n",
    "@variables x₁ x₂;\n",
    "a=[1;2]\n",
    "\n",
    "fh = dot(a, [x₁;x₂])\n",
    "Symbolics.gradient(fh, [x₁, x₂])\n",
    "#Symbolics.hessian(fh, [x₁, x₂])"
   ]
  },
  {
   "cell_type": "markdown",
   "id": "f5a4040a",
   "metadata": {},
   "source": [
    "### Exemplo: $$f(x_1, x_2)= x_2 \\ln(x_1) + x_1 x_2^2$$"
   ]
  },
  {
   "cell_type": "code",
   "execution_count": 81,
   "id": "1aeb9891",
   "metadata": {},
   "outputs": [
    {
     "data": {
      "text/latex": [
       "$$ \\begin{equation}\n",
       "\\left[\n",
       "\\begin{array}{cc}\n",
       " - \\frac{x_2}{x_1^{2}} & x_1^{-1} + 2 x_2 \\\\\n",
       "x_1^{-1} + 2 x_2 & 2 x_1 \\\\\n",
       "\\end{array}\n",
       "\\right]\n",
       "\\end{equation}\n",
       " $$"
      ],
      "text/plain": [
       "2×2 Matrix{Num}:\n",
       " -x₂*(x₁^-2)  x₁^-1 + 2x₂\n",
       " x₁^-1 + 2x₂          2x₁"
      ]
     },
     "execution_count": 81,
     "metadata": {},
     "output_type": "execute_result"
    }
   ],
   "source": [
    "using Symbolics\n",
    "\n",
    "@variables x₁ x₂;\n",
    "\n",
    "f1= x₂*log(x₁) + x₁*x₂^2\n",
    "\n",
    "Symbolics.gradient(f1, [x₁, x₂])\n",
    "\n",
    "Symbolics.hessian(f1, [x₁, x₂])"
   ]
  },
  {
   "cell_type": "markdown",
   "id": "130cf69e",
   "metadata": {},
   "source": [
    "### Exemplo: $$f(x,y) = x^2 + y^2$$"
   ]
  },
  {
   "cell_type": "code",
   "execution_count": 82,
   "id": "8ab1b0a2",
   "metadata": {},
   "outputs": [
    {
     "data": {
      "text/latex": [
       "$$ \\begin{equation}\n",
       "\\left[\n",
       "\\begin{array}{cc}\n",
       "2 & 0 \\\\\n",
       "0 & 2 \\\\\n",
       "\\end{array}\n",
       "\\right]\n",
       "\\end{equation}\n",
       " $$"
      ],
      "text/plain": [
       "2×2 Matrix{Num}:\n",
       " 2  0\n",
       " 0  2"
      ]
     },
     "execution_count": 82,
     "metadata": {},
     "output_type": "execute_result"
    }
   ],
   "source": [
    "using Symbolics\n",
    "\n",
    "@variables x y;\n",
    "\n",
    "\n",
    "f1= x^2 + y^2\n",
    "\n",
    "∇f1 = Symbolics.gradient(f1, [x, y])\n",
    "substitute(∇f1, Dict([x => 1, y => 2]))\n",
    "\n",
    "∇²f1 =Symbolics.hessian(f1, [x, y])\n",
    "substitute(∇²f1, Dict([x => 1, y => 1 ]))"
   ]
  },
  {
   "cell_type": "code",
   "execution_count": 83,
   "id": "85605943",
   "metadata": {},
   "outputs": [
    {
     "data": {
      "text/latex": [
       "$$ \\begin{equation}\n",
       "\\left[\n",
       "\\begin{array}{cc}\n",
       "2 & 0 \\\\\n",
       "0 & 2 \\\\\n",
       "\\end{array}\n",
       "\\right]\n",
       "\\end{equation}\n",
       " $$"
      ],
      "text/plain": [
       "2×2 Matrix{Num}:\n",
       " 2  0\n",
       " 0  2"
      ]
     },
     "execution_count": 83,
     "metadata": {},
     "output_type": "execute_result"
    }
   ],
   "source": [
    "substitute(∇²f1, Dict([x => 1, y => 2]))"
   ]
  },
  {
   "cell_type": "markdown",
   "id": "e19ee303",
   "metadata": {},
   "source": [
    "### Exemplo: $$f(x,y) = 3x^2 - 2y^2$$"
   ]
  },
  {
   "cell_type": "code",
   "execution_count": 84,
   "id": "bdbb6b01",
   "metadata": {},
   "outputs": [
    {
     "data": {
      "text/latex": [
       "$$ \\begin{equation}\n",
       "3 x^{2} - 2 y^{2}\n",
       "\\end{equation}\n",
       " $$"
      ],
      "text/plain": [
       "3(x^2) - 2(y^2)"
      ]
     },
     "execution_count": 84,
     "metadata": {},
     "output_type": "execute_result"
    }
   ],
   "source": [
    "using Symbolics\n",
    "\n",
    "@variables x y;\n",
    "\n",
    "f1= 3*x^2 -2*y^2\n",
    "\n",
    "#∇f = Symbolics.gradient(f1, [x, y])\n",
    "#Gradf = substitute(∇f, Dict([x => -3/4, y => 0]))\n",
    "#Gradf'*[3/4; 1]\n"
   ]
  },
  {
   "cell_type": "markdown",
   "id": "8eeaae1d",
   "metadata": {},
   "source": [
    "## Exemplo: $$f(x)= x^T A x$$"
   ]
  },
  {
   "cell_type": "code",
   "execution_count": 85,
   "id": "7d543db0",
   "metadata": {},
   "outputs": [
    {
     "data": {
      "text/latex": [
       "$$ \\begin{equation}\n",
       "\\left[\n",
       "\\begin{array}{cc}\n",
       "2 & 1 \\\\\n",
       "1 & 2 \\\\\n",
       "\\end{array}\n",
       "\\right]\n",
       "\\end{equation}\n",
       " $$"
      ],
      "text/plain": [
       "2×2 Matrix{Num}:\n",
       " 2  1\n",
       " 1  2"
      ]
     },
     "execution_count": 85,
     "metadata": {},
     "output_type": "execute_result"
    }
   ],
   "source": [
    "using Symbolics\n",
    "\n",
    "@variables x₁ x₂;\n",
    "\n",
    "#A = [1 0; 0 1]\n",
    "A = [1 1; 0 1]\n",
    "\n",
    "f1= 2/2 *dot([x₁; x₂], A*[x₁;x₂])\n",
    "\n",
    "#∇f1 = Symbolics.gradient(f1, [x₁, x₂])\n",
    "#Gradf1 = substitute(∇f1, Dict([x₁ => -3/4, x₂ => 0]))\n",
    "#Gradf1'*[3/4; 1]\n",
    "\n",
    "\n",
    "∇²f1 =Symbolics.hessian(f1, [x₁, x₂])\n",
    "#substitute(∇²f1, Dict([x₁ => 1, x₂ => 2]))\n"
   ]
  },
  {
   "cell_type": "code",
   "execution_count": 86,
   "id": "9c8724da-e87d-4e4d-8cdf-e47164fb580c",
   "metadata": {},
   "outputs": [
    {
     "data": {
      "text/latex": [
       "$$ \\begin{equation}\n",
       "\\left[\n",
       "\\begin{array}{c}\n",
       "x_2 + 2 x_1 \\\\\n",
       "x_1 + 2 x_2 \\\\\n",
       "\\end{array}\n",
       "\\right]\n",
       "\\end{equation}\n",
       " $$"
      ],
      "text/plain": [
       "2-element Vector{Num}:\n",
       " x₂ + 2x₁\n",
       " x₁ + 2x₂"
      ]
     },
     "execution_count": 86,
     "metadata": {},
     "output_type": "execute_result"
    }
   ],
   "source": [
    "(A + A')*[x₁; x₂]"
   ]
  },
  {
   "cell_type": "markdown",
   "id": "ea94442d",
   "metadata": {},
   "source": [
    "## Exemplo: $f(x)= b^T B x$"
   ]
  },
  {
   "cell_type": "code",
   "execution_count": 87,
   "id": "3a3bf664",
   "metadata": {},
   "outputs": [
    {
     "data": {
      "text/latex": [
       "$$ \\begin{equation}\n",
       "\\left[\n",
       "\\begin{array}{cc}\n",
       "0 & 0 \\\\\n",
       "0 & 0 \\\\\n",
       "\\end{array}\n",
       "\\right]\n",
       "\\end{equation}\n",
       " $$"
      ],
      "text/plain": [
       "2×2 Matrix{Num}:\n",
       " 0  0\n",
       " 0  0"
      ]
     },
     "execution_count": 87,
     "metadata": {},
     "output_type": "execute_result"
    }
   ],
   "source": [
    "using Symbolics\n",
    "\n",
    "@variables x₁ x₂;\n",
    "b = [4; 5] \n",
    "B = [1 2; 3 4]\n",
    "f1= dot(b, B*[x₁;x₂])\n",
    "\n",
    "∇f1 = Symbolics.gradient(f1, [x₁, x₂])\n",
    "#Gradf1 = substitute(∇f1, Dict([x₁ => -3/4, x₂ => 0]))\n",
    "#Gradf1'*[3/4; 1]\n",
    "\n",
    "\n",
    "∇²f1 =Symbolics.hessian(f1, [x₁, x₂])\n",
    "#substitute(∇²f1, Dict([x₁ => 1, x₂ => 2]))"
   ]
  },
  {
   "cell_type": "markdown",
   "id": "cfa3c8d2",
   "metadata": {},
   "source": [
    "## Exemplo: $f(x) = \\|Bx + b \\|^2$"
   ]
  },
  {
   "cell_type": "code",
   "execution_count": 88,
   "id": "6e0b301f",
   "metadata": {},
   "outputs": [
    {
     "data": {
      "text/latex": [
       "$$ \\begin{equation}\n",
       "\\left[\n",
       "\\begin{array}{cc}\n",
       "20 & 28 \\\\\n",
       "28 & 40 \\\\\n",
       "\\end{array}\n",
       "\\right]\n",
       "\\end{equation}\n",
       " $$"
      ],
      "text/plain": [
       "2×2 Matrix{Num}:\n",
       " 20  28\n",
       " 28  40"
      ]
     },
     "execution_count": 88,
     "metadata": {},
     "output_type": "execute_result"
    }
   ],
   "source": [
    "using Symbolics\n",
    "\n",
    "@variables x₁ x₂;\n",
    "b = [4; 5] \n",
    "B = [1 2; 3 4]\n",
    "f1= norm(B*[x₁;x₂]+b)^2\n",
    "\n",
    "∇f1 = Symbolics.gradient(f1, [x₁, x₂])\n",
    "#Gradf1 = substitute(∇f1, Dict([x₁ => -3/4, x₂ => 0]))\n",
    "#Gradf1'*[3/4; 1]\n",
    "\n",
    "\n",
    "∇²f1 =Symbolics.hessian(f1, [x₁, x₂])\n",
    "#substitute(∇²f1, Dict([x₁ => 1, x₂ => 2]))\n",
    "\n",
    "#2*B'*B"
   ]
  },
  {
   "cell_type": "markdown",
   "id": "8a88b21d",
   "metadata": {},
   "source": [
    "## Exemplo: $$f(x) = \\log \\left(\\sum\\limits^{m}_{i=1} e^{x_i} \\right)$$"
   ]
  },
  {
   "cell_type": "code",
   "execution_count": 89,
   "id": "f8a3f33a",
   "metadata": {},
   "outputs": [
    {
     "data": {
      "text/latex": [
       "$$ \\begin{equation}\n",
       "\\log\\left( e^{x_1} + e^{x_2} + e^{x_3} \\right)\n",
       "\\end{equation}\n",
       " $$"
      ],
      "text/plain": [
       "log(exp(x₁) + exp(x₂) + exp(x₃))"
      ]
     },
     "execution_count": 89,
     "metadata": {},
     "output_type": "execute_result"
    }
   ],
   "source": [
    "using Symbolics\n",
    "\n",
    "@variables x₁ x₂ x₃;\n",
    "\n",
    "f1= log(exp(x₁) + exp(x₂)+ exp(x₃))\n",
    "\n",
    "#∇f1 = Symbolics.gradient(f1, [x₁, x₂, x₃])\n",
    "#Gradf1 = substitute(∇f1, Dict([x₁ => -3/4, x₂ => 0, x₃ => 1]))\n",
    "\n",
    "#f1 =Symbolics.hessian(f1, [x₁, x₂, x₃])\n",
    "#substitute(∇²f1, Dict([x₁ => 1, x₂ => 2, x₃ => 3]))"
   ]
  },
  {
   "cell_type": "markdown",
   "id": "46e7069a",
   "metadata": {},
   "source": [
    "## Exemplo: $$h(x) = \\log\\left( \\sum\\limits^m_{i=1} e^{a_i^T x + b_i}\\right)$$"
   ]
  },
  {
   "cell_type": "code",
   "execution_count": 90,
   "id": "afca0a95",
   "metadata": {},
   "outputs": [
    {
     "data": {
      "text/latex": [
       "$$ \\begin{equation}\n",
       "\\left[\n",
       "\\begin{array}{cc}\n",
       "5.5297231662310153e-5 & 9.216205277051692e-5 \\\\\n",
       "9.216205277051692e-5 & 0.00015360342128412086 \\\\\n",
       "\\end{array}\n",
       "\\right]\n",
       "\\end{equation}\n",
       " $$"
      ],
      "text/plain": [
       "2×2 Matrix{Num}:\n",
       " 5.52972e-5  9.21621e-5\n",
       " 9.21621e-5  0.000153603"
      ]
     },
     "execution_count": 90,
     "metadata": {},
     "output_type": "execute_result"
    }
   ],
   "source": [
    "using Symbolics\n",
    "\n",
    "@variables x₁ x₂;\n",
    "a1 = [1;2]\n",
    "a2 = [-2; -3]\n",
    "b = [5;6]\n",
    "\n",
    "\n",
    "fh1 = exp(dot(a1, [x₁;x₂])+ b[1])\n",
    "fh2 = exp(dot(a2, [x₁;x₂])+ b[2])\n",
    "\n",
    "fh =  log(fh1 + fh2)\n",
    "\n",
    "\n",
    "#A=[1 1; 0 1]\n",
    "\n",
    "∇fh = Symbolics.gradient(fh, [x₁, x₂])\n",
    "Gradfh = substitute(∇fh, Dict([x₁ => -3/4, x₂ => 0]))\n",
    "\n",
    "\n",
    "∇²fh =Symbolics.hessian(fh, [x₁, x₂])\n",
    "substitute(∇²fh, Dict([x₁ => 1, x₂ => 2]))"
   ]
  },
  {
   "cell_type": "markdown",
   "id": "f1b82e6d",
   "metadata": {},
   "source": [
    "## Exemplo: $$h(x)= (g\\circ f)(x) = g(f(x))$$ onde $$f(x) = Ax+b \\qquad \\mbox{e} \\qquad g(y) = \\ln\\left(\\sum\\limits^{m}_{i=1} e^{y_i} \\right)$$"
   ]
  },
  {
   "cell_type": "code",
   "execution_count": 91,
   "id": "3c627826",
   "metadata": {},
   "outputs": [
    {
     "data": {
      "text/latex": [
       "$$ \\begin{equation}\n",
       "\\log\\left( e^{y_1} + e^{y_2} \\right)\n",
       "\\end{equation}\n",
       " $$"
      ],
      "text/plain": [
       "log(exp(y₁) + exp(y₂))"
      ]
     },
     "execution_count": 91,
     "metadata": {},
     "output_type": "execute_result"
    }
   ],
   "source": [
    "using Symbolics\n",
    "\n",
    "@variables x₁ x₂ y₁ y₂;\n",
    "a1 = [1;2]\n",
    "a2 = [-2; -3]\n",
    "\n",
    "A = [a1'; a2']\n",
    "\n",
    "b = [5;6]\n",
    "\n",
    "fh = A*[x₁;x₂] + b\n",
    "\n",
    "gh =  log(exp(y₁) + exp(y₂))\n",
    "\n",
    "#hf(x) = g(f(x)) \n",
    "#expand(hf(x))\n",
    "\n",
    "\n",
    "#∇hf = Symbolics.gradient(hf, [x₁, x₂])\n",
    "#Gradfh = substitute(∇fh, Dict([x₁ => -3/4, x₂ => 0]))\n",
    "\n",
    "\n",
    "#∇²fh =Symbolics.hessian(fh, [x₁, x₂])\n",
    "#substitute(∇²fh, Dict([x₁ => 1, x₂ => 2]))"
   ]
  },
  {
   "cell_type": "markdown",
   "id": "dbf30e8c",
   "metadata": {},
   "source": [
    "## Derivada direccional $$g(\\alpha):= f(x+ \\alpha d)$$"
   ]
  },
  {
   "cell_type": "code",
   "execution_count": 92,
   "id": "cd18cda5",
   "metadata": {},
   "outputs": [
    {
     "data": {
      "text/latex": [
       "$$ \\begin{equation}\n",
       "-1 + 2 \\alpha\n",
       "\\end{equation}\n",
       " $$"
      ],
      "text/plain": [
       "2α - 1"
      ]
     },
     "execution_count": 92,
     "metadata": {},
     "output_type": "execute_result"
    }
   ],
   "source": [
    "using Symbolics\n",
    "@variables x y α;\n",
    "\n",
    "f1= x*y   # f(x,y) = x*y \n",
    "xbar = [1; 0]\n",
    "d = [-1; -1]\n",
    "v = xbar + α*d  # x + t*d\n",
    "\n",
    "ga = substitute(f1, Dict([x => v[1], y =>v[2]]))   # g(a)\n",
    "dga = Symbolics.derivative(ga, α)                  # g'(a)\n",
    "substitute(dga, Dict([a => 0]))                    # g'(0)  é a derivada direccional\n"
   ]
  },
  {
   "cell_type": "markdown",
   "id": "c4b63bad",
   "metadata": {},
   "source": [
    "# Jacobianos"
   ]
  },
  {
   "cell_type": "markdown",
   "id": "7a40cfa0",
   "metadata": {},
   "source": [
    "### Exemplo: $$f(x) = \\begin{bmatrix} f_1(x)\\\\ f_2(x)\\\\ f_3(x)\\end{bmatrix} = \\begin{bmatrix} 5x_1 + 2x_2^3\\\\ 6x_1 x_2^2\\\\ x_1 + x_2\\end{bmatrix}$$"
   ]
  },
  {
   "cell_type": "code",
   "execution_count": 93,
   "id": "5e85ec3f",
   "metadata": {},
   "outputs": [
    {
     "data": {
      "text/plain": [
       "3×2 Matrix{Float64}:\n",
       " 5.0  0.0\n",
       " 0.0  0.0\n",
       " 1.0  1.0"
      ]
     },
     "execution_count": 93,
     "metadata": {},
     "output_type": "execute_result"
    }
   ],
   "source": [
    "using Symbolics\n",
    "\n",
    "@variables x y;\n",
    "f1 = [5*x + 2*y^3; 6*x*y^2; x + y]\n",
    "\n",
    "#f_x= build_function(f1, x, y, expression = Val{false})\n",
    "#f_x[1](1.0, 0.0)\n",
    "\n",
    "DJ = Symbolics.jacobian(f1, [x, y])\n",
    "\n",
    "DJ_xy = build_function(DJ, [x, y], expression = Val{false})\n",
    "DJ_xy[1]([1.0, 0.0])"
   ]
  },
  {
   "cell_type": "markdown",
   "id": "d30c23d1",
   "metadata": {},
   "source": [
    "### Fórmula de Taylor de $1^{\\circ}$ e $2^{\\circ}$  Ordem"
   ]
  },
  {
   "cell_type": "markdown",
   "id": "b730d828",
   "metadata": {},
   "source": [
    "### Exemplo: $$f(x)= x_1 \\cos(x_2) + x_2\\, {\\rm sen}(x_1)$$"
   ]
  },
  {
   "cell_type": "code",
   "execution_count": 94,
   "id": "d2eae375",
   "metadata": {},
   "outputs": [
    {
     "data": {
      "text/latex": [
       "$$ \\begin{equation}\n",
       "x + 2 x y\n",
       "\\end{equation}\n",
       " $$"
      ],
      "text/plain": [
       "x + 2x*y"
      ]
     },
     "execution_count": 94,
     "metadata": {},
     "output_type": "execute_result"
    }
   ],
   "source": [
    "using Symbolics\n",
    "\n",
    "@variables x y;\n",
    "\n",
    "f3= x*cos(y) + y*sin(x)\n",
    "F = substitute(f3, Dict([x => 0, y => 0]))\n",
    "\n",
    "Gradf = Symbolics.gradient(f3, [x, y])\n",
    "G = substitute(Gradf, Dict([x => 0, y => 0]))\n",
    "\n",
    "Hessf =Symbolics.hessian(f3, [x, y])\n",
    "H = substitute(Hessf, Dict([x => 0, y => 0]))\n",
    "\n",
    "d= [x; y] -[0; 0]\n",
    "\n",
    "p1 = F + G' * d\n",
    "\n",
    "p2 = p1 + d' * H * d\n",
    "\n"
   ]
  },
  {
   "cell_type": "code",
   "execution_count": null,
   "id": "45d867fb",
   "metadata": {},
   "outputs": [],
   "source": []
  }
 ],
 "metadata": {
  "kernelspec": {
   "display_name": "Julia 1.10.3",
   "language": "julia",
   "name": "julia-1.10"
  },
  "language_info": {
   "file_extension": ".jl",
   "mimetype": "application/julia",
   "name": "julia",
   "version": "1.10.3"
  }
 },
 "nbformat": 4,
 "nbformat_minor": 5
}
